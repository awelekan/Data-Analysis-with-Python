{
 "cells": [
  {
   "cell_type": "markdown",
   "id": "48d1b9f3",
   "metadata": {},
   "source": [
    "# Operators\n",
    "Arthmetic operator +,-,*,/, **, %(Remainder)"
   ]
  },
  {
   "cell_type": "code",
   "execution_count": 5,
   "id": "aae23d25",
   "metadata": {},
   "outputs": [
    {
     "name": "stdout",
     "output_type": "stream",
     "text": [
      "75\n"
     ]
    }
   ],
   "source": [
    "oye = 75\n",
    "musa = 95\n",
    "\n",
    "nakel = oye % musa\n",
    "print(nakel)"
   ]
  },
  {
   "cell_type": "code",
   "execution_count": 8,
   "id": "135018cf",
   "metadata": {},
   "outputs": [
    {
     "data": {
      "text/plain": [
       "True"
      ]
     },
     "execution_count": 8,
     "metadata": {},
     "output_type": "execute_result"
    }
   ],
   "source": [
    "#Comparison operators >.<.>=.<= ,==, !=\n",
    "\n",
    "oye != musa\n",
    "\n"
   ]
  },
  {
   "cell_type": "code",
   "execution_count": 13,
   "id": "7715d96b",
   "metadata": {},
   "outputs": [
    {
     "name": "stdout",
     "output_type": "stream",
     "text": [
      "15\n"
     ]
    },
    {
     "data": {
      "text/plain": [
       "str"
      ]
     },
     "execution_count": 13,
     "metadata": {},
     "output_type": "execute_result"
    }
   ],
   "source": [
    "#Assignment operators =, +=, -=, *=, /=,**=,%=\n",
    "lekan = \"NAklegreen Inc\"\n",
    "k = 20\n",
    "\n",
    "oye -=k\n",
    "\n",
    "print(oye)\n",
    "\n",
    "type(lekan)"
   ]
  },
  {
   "cell_type": "code",
   "execution_count": 10,
   "id": "3868bc35",
   "metadata": {},
   "outputs": [
    {
     "data": {
      "text/plain": [
       "list"
      ]
     },
     "execution_count": 10,
     "metadata": {},
     "output_type": "execute_result"
    }
   ],
   "source": [
    "#List []\n",
    "cars = ['mazda','toyota','volks wagon','ford','kia']\n",
    "\n",
    "type(cars)"
   ]
  },
  {
   "cell_type": "code",
   "execution_count": 11,
   "id": "221985d4",
   "metadata": {},
   "outputs": [
    {
     "data": {
      "text/plain": [
       "tuple"
      ]
     },
     "execution_count": 11,
     "metadata": {},
     "output_type": "execute_result"
    }
   ],
   "source": [
    "#Tuple ()\n",
    "fruits = ('oranges','apples', 'water melon', 'banana')\n",
    "\n",
    "type(fruits)"
   ]
  },
  {
   "cell_type": "code",
   "execution_count": 14,
   "id": "91299caa",
   "metadata": {},
   "outputs": [
    {
     "data": {
      "text/plain": [
       "dict"
      ]
     },
     "execution_count": 14,
     "metadata": {},
     "output_type": "execute_result"
    }
   ],
   "source": [
    "#Dictionary {}\n",
    "car = {\n",
    "    'name': 'ford',\n",
    "    'color': 'black',\n",
    "    'year': 2024,\n",
    "    'transmission': 'automaic'\n",
    "}\n",
    "\n",
    "type(car)"
   ]
  },
  {
   "cell_type": "code",
   "execution_count": 16,
   "id": "2445dfbd",
   "metadata": {},
   "outputs": [
    {
     "name": "stdout",
     "output_type": "stream",
     "text": [
      "nothing\n"
     ]
    }
   ],
   "source": [
    "#Conditional Statement , if else elif\n",
    "# if condition:\n",
    "#     statement\n",
    "# elif condiiton:\n",
    "#     statement\n",
    "# elif condition:\n",
    "#     statement\n",
    "# else:\n",
    "#     statement\n",
    "\n",
    "a=100\n",
    "if a<80:\n",
    "    print(\"the number is greater\")\n",
    "else:\n",
    "    print('nothing')\n",
    "\n",
    "\n"
   ]
  },
  {
   "cell_type": "code",
   "execution_count": 8,
   "id": "a2f1fb74",
   "metadata": {},
   "outputs": [
    {
     "name": "stdout",
     "output_type": "stream",
     "text": [
      "Please type your password here naak\n",
      "Username or password is incorrect\n"
     ]
    }
   ],
   "source": [
    "password = input(\"Please type your password here \")\n",
    "if password =='halimah':\n",
    "    print('login sucessful')\n",
    "elif password =='morakinyo':\n",
    "    print('login successfully')\n",
    "else:\n",
    "    print('Username or password is incorrect')"
   ]
  },
  {
   "cell_type": "code",
   "execution_count": null,
   "id": "4f11f32e",
   "metadata": {},
   "outputs": [],
   "source": []
  },
  {
   "cell_type": "code",
   "execution_count": null,
   "id": "a78d6990",
   "metadata": {},
   "outputs": [],
   "source": []
  }
 ],
 "metadata": {
  "kernelspec": {
   "display_name": "Python 3 (ipykernel)",
   "language": "python",
   "name": "python3"
  },
  "language_info": {
   "codemirror_mode": {
    "name": "ipython",
    "version": 3
   },
   "file_extension": ".py",
   "mimetype": "text/x-python",
   "name": "python",
   "nbconvert_exporter": "python",
   "pygments_lexer": "ipython3",
   "version": "3.9.12"
  }
 },
 "nbformat": 4,
 "nbformat_minor": 5
}
