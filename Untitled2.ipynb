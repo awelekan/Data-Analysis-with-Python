{
 "cells": [
  {
   "cell_type": "code",
   "execution_count": null,
   "id": "522bde9e",
   "metadata": {},
   "outputs": [],
   "source": [
    "password = input(\"Please type your password here \")\n",
    "if password =='halimah':\n",
    "    print('login sucessful')\n",
    "# elif password ='morakinyo':\n",
    "#     print('login successfully')\n",
    "else:\n",
    "    print('Access denied')"
   ]
  },
  {
   "cell_type": "code",
   "execution_count": null,
   "id": "a4315c9c",
   "metadata": {},
   "outputs": [],
   "source": []
  }
 ],
 "metadata": {
  "kernelspec": {
   "display_name": "Python 3 (ipykernel)",
   "language": "python",
   "name": "python3"
  }
 },
 "nbformat": 4,
 "nbformat_minor": 5
}
