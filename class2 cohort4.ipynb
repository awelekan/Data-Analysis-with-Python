{
 "cells": [
  {
   "cell_type": "markdown",
   "id": "dfeb622d",
   "metadata": {},
   "source": [
    "# Operators\n",
    "#Arithmetic +,-,*,/,**, %(Remainder)"
   ]
  },
  {
   "cell_type": "code",
   "execution_count": 22,
   "id": "4e39c022",
   "metadata": {},
   "outputs": [
    {
     "name": "stdout",
     "output_type": "stream",
     "text": [
      "2200\n"
     ]
    }
   ],
   "source": [
    "kemi = 40\n",
    "wale= 55\n",
    "\n",
    "nakel = kemi * wale\n",
    "print(nakel)"
   ]
  },
  {
   "cell_type": "code",
   "execution_count": 23,
   "id": "746195fa",
   "metadata": {},
   "outputs": [
    {
     "data": {
      "text/plain": [
       "0.7272727272727273"
      ]
     },
     "execution_count": 23,
     "metadata": {},
     "output_type": "execute_result"
    }
   ],
   "source": [
    "#COmparison Operators  > ,<, ==, >=,<= !=\n",
    "kemi/wale\n"
   ]
  },
  {
   "cell_type": "code",
   "execution_count": 24,
   "id": "f4c98467",
   "metadata": {},
   "outputs": [
    {
     "name": "stdout",
     "output_type": "stream",
     "text": [
      "600\n"
     ]
    },
    {
     "data": {
      "text/plain": [
       "int"
      ]
     },
     "execution_count": 24,
     "metadata": {},
     "output_type": "execute_result"
    }
   ],
   "source": [
    "#Assignment Operator =, +=, -=,*=, /=\n",
    "\n",
    "bob=15\n",
    "\n",
    "kemi *=bob\n",
    "print(kemi)\n",
    "type(kemi)"
   ]
  },
  {
   "cell_type": "code",
   "execution_count": 12,
   "id": "1c8de065",
   "metadata": {},
   "outputs": [
    {
     "data": {
      "text/plain": [
       "15.0"
      ]
     },
     "execution_count": 12,
     "metadata": {},
     "output_type": "execute_result"
    }
   ],
   "source": [
    "kemi/wale"
   ]
  },
  {
   "cell_type": "code",
   "execution_count": 16,
   "id": "8244e44c",
   "metadata": {},
   "outputs": [
    {
     "data": {
      "text/plain": [
       "list"
      ]
     },
     "execution_count": 16,
     "metadata": {},
     "output_type": "execute_result"
    }
   ],
   "source": [
    "#List: \n",
    "\n",
    "cars = ['toyota', 'benz', 'lexus']\n",
    "fruits = ['ornges','apples','banana']\n",
    "type(cars)"
   ]
  },
  {
   "cell_type": "code",
   "execution_count": 25,
   "id": "99035137",
   "metadata": {},
   "outputs": [
    {
     "data": {
      "text/plain": [
       "tuple"
      ]
     },
     "execution_count": 25,
     "metadata": {},
     "output_type": "execute_result"
    }
   ],
   "source": [
    "#Tuples\n",
    "cars =('toyota', 'benz', 'lexus')\n",
    "fruits =('ornges','apples','banana')\n",
    "\n",
    "type(fruits)"
   ]
  },
  {
   "cell_type": "code",
   "execution_count": 48,
   "id": "cad49b22",
   "metadata": {},
   "outputs": [
    {
     "data": {
      "text/plain": [
       "dict"
      ]
     },
     "execution_count": 48,
     "metadata": {},
     "output_type": "execute_result"
    }
   ],
   "source": [
    "cars = {\n",
    "    'name':'benz', 'model':'Gwagon', 'year':2023\n",
    "}\n",
    "#print(cars)\n",
    "type(cars)"
   ]
  },
  {
   "cell_type": "code",
   "execution_count": null,
   "id": "f7f8bb50",
   "metadata": {},
   "outputs": [],
   "source": [
    "#Conditional Statement if else elif\n",
    "\n",
    "# if condition:\n",
    "#     statement\n",
    "# elif condition:\n",
    "#     statement\n",
    "# else statement\n",
    "\n",
    "password = input(\"Enter your password \")\n",
    "if password == \"Nakel\":\n",
    "    print(\"Welcome to our class\")\n",
    "else:\n",
    "    print(\"Access Denied\")\n",
    "\n",
    "\n"
   ]
  },
  {
   "cell_type": "code",
   "execution_count": null,
   "id": "8db74bff",
   "metadata": {},
   "outputs": [],
   "source": [
    "password = input(\"Enter your password \")\n",
    "if password == \"Nakel\":\n",
    "    print(\"Welcome to our class\")\n",
    "else:\n",
    "    print(\"Access Denied\")\n"
   ]
  },
  {
   "cell_type": "code",
   "execution_count": null,
   "id": "bfa17df2",
   "metadata": {},
   "outputs": [],
   "source": []
  },
  {
   "cell_type": "code",
   "execution_count": null,
   "id": "998a2b2a",
   "metadata": {},
   "outputs": [],
   "source": []
  },
  {
   "cell_type": "code",
   "execution_count": null,
   "id": "4d205751",
   "metadata": {},
   "outputs": [],
   "source": []
  }
 ],
 "metadata": {
  "kernelspec": {
   "display_name": "Python 3 (ipykernel)",
   "language": "python",
   "name": "python3"
  },
  "language_info": {
   "codemirror_mode": {
    "name": "ipython",
    "version": 3
   },
   "file_extension": ".py",
   "mimetype": "text/x-python",
   "name": "python",
   "nbconvert_exporter": "python",
   "pygments_lexer": "ipython3",
   "version": "3.9.12"
  }
 },
 "nbformat": 4,
 "nbformat_minor": 5
}
