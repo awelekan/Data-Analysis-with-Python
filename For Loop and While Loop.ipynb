{
 "cells": [
  {
   "cell_type": "code",
   "execution_count": 1,
   "id": "7c580b54",
   "metadata": {},
   "outputs": [
    {
     "name": "stdout",
     "output_type": "stream",
     "text": [
      "mazda\n",
      "audi\n",
      "ford\n",
      "toyota\n"
     ]
    }
   ],
   "source": [
    "#For Loop for\n",
    "\n",
    "cars=['mazda','audi','ford','toyota']\n",
    "\n",
    "for  dapo in cars:\n",
    "    print(dapo)"
   ]
  },
  {
   "cell_type": "code",
   "execution_count": 2,
   "id": "5937097a",
   "metadata": {},
   "outputs": [
    {
     "name": "stdout",
     "output_type": "stream",
     "text": [
      "['mazda', 'audi', 'ford', 'toyota']\n"
     ]
    }
   ],
   "source": [
    "cars=['mazda','audi','ford','toyota']\n",
    "print(cars)"
   ]
  },
  {
   "cell_type": "code",
   "execution_count": 3,
   "id": "20dbc082",
   "metadata": {},
   "outputs": [
    {
     "name": "stdout",
     "output_type": "stream",
     "text": [
      "N\n",
      "a\n",
      "k\n",
      "e\n",
      "l\n",
      "g\n",
      "r\n",
      "e\n",
      "e\n",
      "n\n"
     ]
    }
   ],
   "source": [
    "for i in 'Nakelgreen':\n",
    "    print(i)"
   ]
  },
  {
   "cell_type": "code",
   "execution_count": 4,
   "id": "42692df0",
   "metadata": {},
   "outputs": [
    {
     "name": "stdout",
     "output_type": "stream",
     "text": [
      "0\n",
      "1\n",
      "2\n",
      "3\n",
      "4\n",
      "5\n",
      "6\n",
      "7\n"
     ]
    }
   ],
   "source": [
    "for t in range(0,8):\n",
    "    print(t)"
   ]
  },
  {
   "cell_type": "code",
   "execution_count": 5,
   "id": "21f67a43",
   "metadata": {},
   "outputs": [
    {
     "name": "stdout",
     "output_type": "stream",
     "text": [
      "8\n",
      "9\n",
      "10\n",
      "11\n",
      "12\n",
      "13\n"
     ]
    }
   ],
   "source": [
    "for e in range(8,14):\n",
    "    print(e)"
   ]
  },
  {
   "cell_type": "code",
   "execution_count": 6,
   "id": "5ccf68cf",
   "metadata": {},
   "outputs": [
    {
     "name": "stdout",
     "output_type": "stream",
     "text": [
      "10\n",
      "15\n",
      "20\n"
     ]
    }
   ],
   "source": [
    "for h in range(10,25,5):\n",
    "    print(h)"
   ]
  },
  {
   "cell_type": "code",
   "execution_count": 11,
   "id": "6f6229e0",
   "metadata": {},
   "outputs": [
    {
     "name": "stdout",
     "output_type": "stream",
     "text": [
      "0\n",
      "1\n",
      "2\n",
      "3\n",
      "4\n",
      "5\n",
      "6\n",
      "7\n",
      "8\n",
      "This is the final\n"
     ]
    }
   ],
   "source": [
    "for i in range(9):\n",
    "    if i==9: break\n",
    "    print(i)\n",
    "else:\n",
    "    print(\"This is the final\")"
   ]
  },
  {
   "cell_type": "code",
   "execution_count": 20,
   "id": "f11d749f",
   "metadata": {},
   "outputs": [
    {
     "name": "stdout",
     "output_type": "stream",
     "text": [
      "1\n",
      "2\n",
      "3\n",
      "4\n",
      "5\n",
      "6\n",
      "7\n",
      "8\n",
      "9\n"
     ]
    }
   ],
   "source": [
    "#While Loop while\n",
    "\n",
    "i=0\n",
    "while i<9:\n",
    "    i+=1\n",
    "    print(i)"
   ]
  },
  {
   "cell_type": "code",
   "execution_count": 18,
   "id": "8f0cef9a",
   "metadata": {},
   "outputs": [
    {
     "name": "stdout",
     "output_type": "stream",
     "text": [
      "2\n",
      "3\n",
      "5\n",
      "6\n"
     ]
    }
   ],
   "source": [
    "j=1\n",
    "while j<6:\n",
    "    j+=1\n",
    "    if j ==4:\n",
    "        continue\n",
    "    print(j)"
   ]
  },
  {
   "cell_type": "code",
   "execution_count": 19,
   "id": "166c6736",
   "metadata": {},
   "outputs": [
    {
     "name": "stdout",
     "output_type": "stream",
     "text": [
      "2\n",
      "3\n"
     ]
    }
   ],
   "source": [
    "j=1\n",
    "while j<6:\n",
    "    j+=1\n",
    "    if j ==4:\n",
    "        break\n",
    "    print(j)"
   ]
  },
  {
   "cell_type": "code",
   "execution_count": 21,
   "id": "5279419a",
   "metadata": {},
   "outputs": [],
   "source": [
    "#Function def\n",
    "def halima():\n",
    "    print(\"Welcome to Nakelgreen Python Class\")"
   ]
  },
  {
   "cell_type": "code",
   "execution_count": 22,
   "id": "343f0ef7",
   "metadata": {},
   "outputs": [
    {
     "name": "stdout",
     "output_type": "stream",
     "text": [
      "Welcome to Nakelgreen Python Class\n"
     ]
    }
   ],
   "source": [
    "halima()"
   ]
  },
  {
   "cell_type": "code",
   "execution_count": 28,
   "id": "32fddc15",
   "metadata": {},
   "outputs": [],
   "source": [
    "def oye(fname, lname):\n",
    "    print('Welcome' + \" \" + fname + \" \" + lname)\n",
    "    \n",
    "    "
   ]
  },
  {
   "cell_type": "code",
   "execution_count": 31,
   "id": "57ca6422",
   "metadata": {},
   "outputs": [
    {
     "ename": "TypeError",
     "evalue": "oye() missing 1 required positional argument: 'lname'",
     "output_type": "error",
     "traceback": [
      "\u001b[1;31m---------------------------------------------------------------------------\u001b[0m",
      "\u001b[1;31mTypeError\u001b[0m                                 Traceback (most recent call last)",
      "Input \u001b[1;32mIn [31]\u001b[0m, in \u001b[0;36m<cell line: 1>\u001b[1;34m()\u001b[0m\n\u001b[1;32m----> 1\u001b[0m \u001b[43moye\u001b[49m\u001b[43m(\u001b[49m\u001b[38;5;124;43m'\u001b[39;49m\u001b[38;5;124;43mAwe\u001b[39;49m\u001b[38;5;124;43m'\u001b[39;49m\u001b[43m)\u001b[49m\n",
      "\u001b[1;31mTypeError\u001b[0m: oye() missing 1 required positional argument: 'lname'"
     ]
    }
   ],
   "source": [
    "oye('Awe')"
   ]
  },
  {
   "cell_type": "code",
   "execution_count": null,
   "id": "b038a4c7",
   "metadata": {},
   "outputs": [],
   "source": [
    "#pandas Panel Data system\n"
   ]
  }
 ],
 "metadata": {
  "kernelspec": {
   "display_name": "Python 3 (ipykernel)",
   "language": "python",
   "name": "python3"
  },
  "language_info": {
   "codemirror_mode": {
    "name": "ipython",
    "version": 3
   },
   "file_extension": ".py",
   "mimetype": "text/x-python",
   "name": "python",
   "nbconvert_exporter": "python",
   "pygments_lexer": "ipython3",
   "version": "3.9.12"
  }
 },
 "nbformat": 4,
 "nbformat_minor": 5
}
