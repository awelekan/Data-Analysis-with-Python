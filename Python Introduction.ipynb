{
 "cells": [
  {
   "cell_type": "markdown",
   "id": "105a02d9",
   "metadata": {},
   "source": [
    "# "
   ]
  },
  {
   "cell_type": "code",
   "execution_count": 1,
   "id": "1a5d5ba2",
   "metadata": {},
   "outputs": [
    {
     "name": "stdout",
     "output_type": "stream",
     "text": [
      "Halima. Dapo and Oye are in the class\n"
     ]
    }
   ],
   "source": [
    "print(\"Halima. Dapo and Oye are in the class\")"
   ]
  },
  {
   "cell_type": "markdown",
   "id": "38eccef1",
   "metadata": {},
   "source": [
    "# Basic Syntax: "
   ]
  },
  {
   "cell_type": "code",
   "execution_count": 4,
   "id": "b286c842",
   "metadata": {},
   "outputs": [],
   "source": [
    "#Halima is a very deligent student"
   ]
  },
  {
   "cell_type": "code",
   "execution_count": 5,
   "id": "3639caee",
   "metadata": {},
   "outputs": [
    {
     "data": {
      "text/plain": [
       "'Halima. Dapo and Oye are in the class Halima is a very deligent student'"
      ]
     },
     "execution_count": 5,
     "metadata": {},
     "output_type": "execute_result"
    }
   ],
   "source": [
    "#CONCATENATION\n",
    "\"Halima. Dapo and Oye are in the class \"  + \"Halima is a very deligent student\"\n",
    "\n"
   ]
  },
  {
   "cell_type": "code",
   "execution_count": 10,
   "id": "a74f362e",
   "metadata": {},
   "outputs": [
    {
     "data": {
      "text/plain": [
       "579"
      ]
     },
     "execution_count": 10,
     "metadata": {},
     "output_type": "execute_result"
    }
   ],
   "source": [
    "234 +345"
   ]
  },
  {
   "cell_type": "code",
   "execution_count": 9,
   "id": "eee9526c",
   "metadata": {},
   "outputs": [],
   "source": [
    "#INDENTATION\n",
    "if 2>4:\n",
    "    print(\"this is not correct\")"
   ]
  },
  {
   "cell_type": "code",
   "execution_count": null,
   "id": "733e2dca",
   "metadata": {},
   "outputs": [],
   "source": [
    "# if elif else where for global round is in pass def class"
   ]
  },
  {
   "cell_type": "code",
   "execution_count": 16,
   "id": "397ca690",
   "metadata": {},
   "outputs": [
    {
     "ename": "NameError",
     "evalue": "name 'Oye' is not defined",
     "output_type": "error",
     "traceback": [
      "\u001b[1;31m---------------------------------------------------------------------------\u001b[0m",
      "\u001b[1;31mNameError\u001b[0m                                 Traceback (most recent call last)",
      "Input \u001b[1;32mIn [16]\u001b[0m, in \u001b[0;36m<cell line: 6>\u001b[1;34m()\u001b[0m\n\u001b[0;32m      3\u001b[0m oye \u001b[38;5;241m=\u001b[39m \u001b[38;5;241m2344455\u001b[39m\n\u001b[0;32m      4\u001b[0m dapo \u001b[38;5;241m=\u001b[39m \u001b[38;5;241m345899999\u001b[39m\n\u001b[1;32m----> 6\u001b[0m \u001b[38;5;28mprint\u001b[39m(\u001b[43mOye\u001b[49m\u001b[38;5;241m+\u001b[39mdapo)\n",
      "\u001b[1;31mNameError\u001b[0m: name 'Oye' is not defined"
     ]
    }
   ],
   "source": [
    "#Variable \n",
    "\n",
    "oye = 2344455\n",
    "dapo = 345899999\n",
    "\n",
    "print(Oye+dapo)"
   ]
  },
  {
   "cell_type": "code",
   "execution_count": null,
   "id": "438d0a5a",
   "metadata": {},
   "outputs": [],
   "source": [
    "#Types of Variable\n",
    "\"Nakelgreen\"    #Strings\n",
    "2  #interger\n",
    "2.5 #float\n",
    "[red, blue, yellow]   #List\n",
    "(white,green,brown)   #tuples\n",
    "{'color': \"red\", \"car\": \"benz\"}   #dictionary dict"
   ]
  }
 ],
 "metadata": {
  "kernelspec": {
   "display_name": "Python 3 (ipykernel)",
   "language": "python",
   "name": "python3"
  },
  "language_info": {
   "codemirror_mode": {
    "name": "ipython",
    "version": 3
   },
   "file_extension": ".py",
   "mimetype": "text/x-python",
   "name": "python",
   "nbconvert_exporter": "python",
   "pygments_lexer": "ipython3",
   "version": "3.9.12"
  }
 },
 "nbformat": 4,
 "nbformat_minor": 5
}
